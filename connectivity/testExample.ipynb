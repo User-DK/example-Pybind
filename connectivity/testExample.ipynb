{
 "cells": [
  {
   "cell_type": "code",
   "execution_count": 1,
   "metadata": {},
   "outputs": [
    {
     "name": "stdout",
     "output_type": "stream",
     "text": [
      "Connectivity module for printing strongly connected components (SCC) for a given neighbors list.\n",
      "print_scc(arg0: List[List[int]]) -> List[List[int]]\n",
      "\n",
      "A function which takes a list of neighbors and returns the strongly connected components.\n",
      "\n",
      "Strongly connected component for list: [[1], [2], [0]] are: [[2, 1, 0]]\n",
      "Strongly connected component for list: [[1], [2, 3], [0], []] are: [[3], [2, 1, 0]]\n",
      "Strongly connected component for list: [[1], [2, 4], [0], [4], [3]] are: [[3, 4], [2, 1, 0]]\n",
      "Strongly connected component for list: [[], [2], [1, 3], [], [6], [4, 6, 7], [5, 7], [5, 6]] are: [[0], [3], [2, 1], [7, 5, 6, 4]]\n"
     ]
    }
   ],
   "source": [
    "import connectivity\n",
    "\n",
    "print(connectivity.__doc__)\n",
    "\n",
    "print(connectivity.print_scc.__doc__)\n",
    "\n",
    "def printStatement(adj):\n",
    "    print(f\"Strongly connected component for list: {adj} are: {connectivity.print_scc(adj)}\")\n",
    "\n",
    "\n",
    "adjacency_list = [[1], [2], [0]]\n",
    "printStatement(adjacency_list)\n",
    "\n",
    "adjacency_list = [[1], [2, 3], [0], []]\n",
    "printStatement(adjacency_list)\n",
    "\n",
    "adjacency_list = [[1], [2, 4], [0], [4], [3]]\n",
    "printStatement(adjacency_list)\n",
    "\n",
    "adjacency_list = [[], [2], [1, 3], [], [6], [4, 6, 7], [5, 7], [5, 6]]\n",
    "printStatement(adjacency_list)\n",
    "\n",
    "\n",
    "# can use this for custom input\n",
    "# num_nodes = int (input(\"Enter the number of vertices: \"))\n",
    "# adjacency_list = []\n",
    "# for i in range(num_nodes):\n",
    "#     neighbors = list(map(int,input(f\"Enter the neighbors of vertex {i} separated by commas: \").split(',')))\n",
    "#     adjacency_list.append(neighbors)\n",
    "\n",
    "# print(connectivity.print_scc(adjacency_list))"
   ]
  }
 ],
 "metadata": {
  "kernelspec": {
   "display_name": "Python 3",
   "language": "python",
   "name": "python3"
  },
  "language_info": {
   "codemirror_mode": {
    "name": "ipython",
    "version": 3
   },
   "file_extension": ".py",
   "mimetype": "text/x-python",
   "name": "python",
   "nbconvert_exporter": "python",
   "pygments_lexer": "ipython3",
   "version": "3.11.2"
  }
 },
 "nbformat": 4,
 "nbformat_minor": 2
}
